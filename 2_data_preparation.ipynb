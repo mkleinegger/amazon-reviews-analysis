{
 "cells": [
  {
   "cell_type": "markdown",
   "metadata": {},
   "source": [
    "# 2. Data preparation"
   ]
  },
  {
   "cell_type": "code",
   "execution_count": 11,
   "metadata": {},
   "outputs": [],
   "source": [
    "import pyspark.pandas as ps\n",
    "from pyspark.sql import SparkSession\n",
    "from pyspark.sql.types import StructType, StructField, StringType, DoubleType, BooleanType, ArrayType, LongType\n",
    "\n",
    "spark = SparkSession.builder.master('local[*]').config(\"spark.driver.memory\", \"8g\").config(\"spark.executor.memory\", \"8g\").config(\"spark.memory.offHeap.enabled\",\"true\").config(\"spark.memory.offHeap.size\",\"28g\").getOrCreate()"
   ]
  },
  {
   "cell_type": "markdown",
   "metadata": {},
   "source": [
    "## Join data and metadata"
   ]
  },
  {
   "cell_type": "code",
   "execution_count": 12,
   "metadata": {},
   "outputs": [],
   "source": [
    "categories = ['AMAZON_FASHION', 'All_Beauty', 'Appliances', 'Arts_Crafts_and_Sewing', 'Automotive', 'Books', 'CDs_and_Vinyl', 'Cell_Phones_and_Accessories', 'Clothing_Shoes_and_Jewelry', 'Digital_Music', 'Electronics', 'Gift_Cards', 'Grocery_and_Gourmet_Food', 'Home_and_Kitchen', 'Industrial_and_Scientific', 'Kindle_Store', 'Luxury_Beauty', 'Magazine_Subscriptions', 'Movies_and_TV', 'Musical_Instruments', 'Office_Products', 'Patio_Lawn_and_Garden', 'Pet_Supplies', 'Prime_Pantry', 'Software', 'Sports_and_Outdoors', 'Tools_and_Home_Improvement', 'Toys_and_Games', 'Video_Games']"
   ]
  },
  {
   "cell_type": "code",
   "execution_count": 3,
   "metadata": {},
   "outputs": [],
   "source": [
    "schema = StructType([\n",
    "    StructField('asin', StringType()),\n",
    "    StructField('image', ArrayType(StringType())),\n",
    "    StructField('overall', DoubleType()),\n",
    "    StructField('reviewText', StringType()),\n",
    "    StructField('reviewTime', StringType()),\n",
    "    StructField('reviewerID', StringType()),\n",
    "    StructField('reviewerName', StringType()),\n",
    "    StructField('style', StructType([\n",
    "        StructField('Color', StringType()),\n",
    "        StructField('Color Name', StringType()),\n",
    "        StructField('Design', StringType()),\n",
    "        StructField('Flavor', StringType()),\n",
    "        StructField('Format', StringType()),\n",
    "        StructField('Item Package Quantity', StringType()),\n",
    "        StructField('Package Quantity', StringType()),\n",
    "        StructField('Package Type', StringType()),\n",
    "        StructField('Pattern', StringType()),\n",
    "        StructField('Scent Name', StringType()),\n",
    "        StructField('Size', StringType()),\n",
    "        StructField('Size Name', StringType()),\n",
    "        StructField('Style', StringType()),\n",
    "        StructField('Style Name', StringType()),\n",
    "    ])),\n",
    "    StructField('summary', StringType()),\n",
    "    StructField('unixReviewTime', LongType()),\n",
    "    StructField('verified', BooleanType()),\n",
    "    StructField('vote', StringType()),\n",
    "])"
   ]
  },
  {
   "cell_type": "code",
   "execution_count": null,
   "metadata": {},
   "outputs": [],
   "source": [
    "for category in categories:\n",
    "    print(f'Processing {category}')\n",
    "\n",
    "    data = ps.DataFrame(spark.read.schema(schema).json(f'/data/json/{category}.json'))\n",
    "\n",
    "    meta = ps.read_json(f'/data/json/meta_{category}.json', index_col='asin')\n",
    "    meta = meta.drop(['similar_item', 'details', 'tech1', 'tech2'], axis=1)\n",
    "\n",
    "    df = data.join(meta, on='asin')\n",
    "    df.reset_index(inplace=True)\n",
    "    df.set_index(['reviewerID', 'asin'], inplace=True)\n",
    "    df['category'] = category\n",
    "    df.to_parquet(f'/data/{category}.parquet', index_col=['reviewerID', 'asin'])\n",
    "\n",
    "    print(f'Finished {category}')"
   ]
  },
  {
   "cell_type": "markdown",
   "metadata": {},
   "source": [
    "## Concatenate categories"
   ]
  },
  {
   "cell_type": "code",
   "execution_count": 13,
   "metadata": {},
   "outputs": [],
   "source": [
    "df_list = [ps.read_parquet(f'/data/{category}.parquet', index_col=['reviewerID', 'asin']) for category in categories]"
   ]
  },
  {
   "cell_type": "code",
   "execution_count": 14,
   "metadata": {},
   "outputs": [],
   "source": [
    "df = ps.concat(df_list)"
   ]
  },
  {
   "cell_type": "code",
   "execution_count": 10,
   "metadata": {},
   "outputs": [
    {
     "name": "stderr",
     "output_type": "stream",
     "text": [
      "                                                                                \r"
     ]
    }
   ],
   "source": [
    "df.to_parquet('/data/data.parquet', index_col=['reviewerID', 'asin'])"
   ]
  }
 ],
 "metadata": {
  "kernelspec": {
   "display_name": "Python 3",
   "language": "python",
   "name": "python3"
  },
  "language_info": {
   "codemirror_mode": {
    "name": "ipython",
    "version": 3
   },
   "file_extension": ".py",
   "mimetype": "text/x-python",
   "name": "python",
   "nbconvert_exporter": "python",
   "pygments_lexer": "ipython3",
   "version": "3.9.18"
  }
 },
 "nbformat": 4,
 "nbformat_minor": 2
}
